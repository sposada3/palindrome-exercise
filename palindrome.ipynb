{
 "cells": [
  {
   "cell_type": "code",
   "execution_count": null,
   "id": "38cd42d7-5e09-4530-a391-2622c505e833",
   "metadata": {},
   "outputs": [],
   "source": [
    "#Import module\n",
    "import re \n",
    "\n",
    "def is_palindrome(string):\n",
    "    if re.search(\"^[A-Za-z ]+$\", string):\n",
    "        no_whitespaces= string.replace(\" \", \"\") \n",
    "        reverse_string= no_whitespaces[ : :-1]\n",
    "        if string.replace(\" \", \"\") == reverse_string:\n",
    "            return True\n",
    "        else:\n",
    "            return False\n",
    "    else:\n",
    "        print(\"ERROR, only alphabetical characters and spaces\")\n",
    "        \n",
    "string=input(\"Please enter a string: \").lower()\n",
    "is_palindrome(string)"
   ]
  }
 ],
 "metadata": {
  "kernelspec": {
   "display_name": "Python 3 (ipykernel)",
   "language": "python",
   "name": "python3"
  },
  "language_info": {
   "codemirror_mode": {
    "name": "ipython",
    "version": 3
   },
   "file_extension": ".py",
   "mimetype": "text/x-python",
   "name": "python",
   "nbconvert_exporter": "python",
   "pygments_lexer": "ipython3",
   "version": "3.9.7"
  }
 },
 "nbformat": 4,
 "nbformat_minor": 5
}
